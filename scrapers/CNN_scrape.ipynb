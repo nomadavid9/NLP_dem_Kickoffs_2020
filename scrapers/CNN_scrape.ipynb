{
 "cells": [
  {
   "cell_type": "code",
   "execution_count": 31,
   "metadata": {},
   "outputs": [],
   "source": [
    "import requests\n",
    "from bs4 import BeautifulSoup\n",
    "import re"
   ]
  },
  {
   "cell_type": "code",
   "execution_count": 5,
   "metadata": {},
   "outputs": [],
   "source": [
    "r = requests.get('https://www.nytimes.com/2019/04/15/us/politics/pete-buttigieg-speech.html')\n",
    "raw = r.text"
   ]
  },
  {
   "cell_type": "code",
   "execution_count": 75,
   "metadata": {},
   "outputs": [],
   "source": [
    "soup = BeautifulSoup(raw)\n",
    "p_tags = soup.findAll(\"p\", {\"class\": \"css-exrw3m evys1bk0\"})[2:]\n",
    "speech = [str(p.contents[0]) for p in p_tags if 'class' not in str(p.contents[0])]"
   ]
  },
  {
   "cell_type": "code",
   "execution_count": 76,
   "metadata": {},
   "outputs": [],
   "source": [
    "transcript = '\\n'.join(speech)"
   ]
  },
  {
   "cell_type": "code",
   "execution_count": 69,
   "metadata": {},
   "outputs": [],
   "source": [
    "# transcript = ' '.join(speech)\n",
    "transcrtipt = ''\n",
    "for s in speech:\n",
    "    transcrtipt += ' ' + s\n",
    "    \n",
    "transcript = transcript[1:]"
   ]
  },
  {
   "cell_type": "code",
   "execution_count": 77,
   "metadata": {},
   "outputs": [
    {
     "data": {
      "text/plain": [
       "'Hello, South Bend!\\nIt means so much to be here with all of you.\\nI want to thank everyone who was part of our program today: Father Brian for your guidance and your prayers, Bishop Miller for your spiritual and civic leadership, Janet Hines-Norris for that wonderful performance.\\nI want to thank our Fire Department honor guard for today’s service and thank all our first responders for everything you do to keep us safe.\\nThank you Renee Ferguson for your mentorship and passion for justice. And Mrs. Chismar — everyone should have at least one person who believes in them the way you believe in your students.\\nThank you to my fellow mayors, Mayor Cabaldon, Mayor Whaley, and Mayor Adler, and all of the current and former mayors here today, for your friendship and your service at a moment when local leadership has never mattered more.\\nI want to ask everyone here to help thank my unbelievably talented staff and volunteers, each doing the work of 10 people, living out the values of this project from day one and making today possible.\\nThanks to my mom who is here physically and my dad who is here in more way than he could have imagined. And Chasten, my love, for giving me the strength to do this and the grounding to be myself as we go.\\nFor the people from around South Bend who are joining us today — thank you for giving me the chance to be “Mayor Pete.”\\nAnd for everyone who came here from far and wide — welcome to South Bend. It’s a deep source of pleasure to share our hometown with you.\\nI’m glad you can see this for yourself, because this city’s story is a big part of why I am doing this.\\nI grew up here in South Bend — in the same neighborhood where Chasten and I live today with our two dogs, Buddy and Truman.\\nMy father immigrated to this country because he knew it was the best place in the world to get an advanced education. He became an American citizen and he met my mother, a young professor who was the daughter of an Army colonel and a piano teacher. They moved here for work, settled into a house on the West Side, and pretty soon after that, I came on the scene.\\nThe South Bend I grew up in was still recovering from economic disasters that played out before I was even born.\\nOnce in this city, we housed companies that helped power America into the 20th century.\\nThink of the forces that built the building we’re standing in now, and countless others like it now long gone. Think of the wealth created here. Think of the thousands of workers who came here every day, and the thousands of families they provided for.\\nAnd think of what it must have been like in 1963 when the great Studebaker auto company collapsed and the shock brought this city to its knees.\\nBuildings like this one fell quiet, and acres of land around us slowly became a rust-scape of industrial decline, collapsing factories everywhere.\\nHouses, once full with life and love and hope, stood crumbling and vacant.\\nFor the next half-century it took heroic efforts just to keep our city running, while our population shrank, and young people like me grew up believing the only way to a good life was to get out.\\nMany of us did. But then some of us came back. We wanted things to change around here. And when the national press called us a dying city at the beginning of this decade, we took it as a call to arms.\\nI ran for mayor in 2011 knowing that nothing like Studebaker would ever come back — but believing that we would, our city would, if we had the courage to reimagine our future.\\nAnd now, I can confidently say that South Bend is back.\\nMore people are moving into South Bend than we’ve seen in a generation. Thousands of new jobs have been added in our area, and billions in investment.\\nThere’s a long way for us to go. Life here is far from perfect. But we’ve changed our trajectory, and shown a path forward for communities like ours.\\nAnd that’s why I’m here today. To tell a different story than “Make America Great Again.”\\nBecause there is a myth being sold to industrial and rural communities: the myth that we can stop the clock and turn it back.\\nIt comes from people who think the only way to reach communities like ours is through resentment and nostalgia, selling an impossible promise of returning to a bygone era that was never as great as advertised to begin with.\\nThe problem is, they’re telling us to look for greatness in all the wrong places.\\nBecause if there is one thing the city of South Bend has shown, it’s that there is no such thing as an honest politics that revolves around the word “again.”\\nIt’s time to walk away from the politics of the past, and toward something totally different.\\nSo that’s why I’m here today, joining you to make a little news:\\nMy name is Pete Buttigieg. They call me Mayor Pete. I am a proud son of South Bend, Ind. And I am running for president of the United States.\\nI recognize the audacity of doing this as a Midwestern millennial mayor. More than a little bold — at age 37 — to seek the highest office in the land.\\nUp until recently, this was not exactly what I had in mind either, for how to spend my eighth year as mayor and my 38th year in this world. But the moment we live in compels us to act.\\nThe forces of change in our country today are tectonic. Forces that help to explain what made this current presidency even possible. That’s why, this time, it’s not just about winning an election — it’s about winning an era.\\nNot just about the next four years — it’s about preparing our country for a better life in 2030, in 2040, and in the year 2054, when, God willing, I will come to be the same age as our current President.\\nI take the long view because I have to. I come from the generation that grew up with school shootings as the norm, the generation that produced the bulk of the troops in the post-9/11 conflicts, the generation that is going to be on the business end of climate change for as long as we live.\\nA generation that stands to be the first ever in America to come out worse off economically than our parents if we don’t do something truly different.\\nThis is one of those rare moments between whole eras in the life of our nation.\\nI was born in another such moment, in the early 1980s, when a half-century of New Deal liberalism gave way to forty years of Reagan supply-side conservatism that created the terms for how Democrats as well as Republicans made policy. And that era, too, is now over.\\nIf America today feels like a confusing place to be, it’s because we’re on one of those blank pages in between chapters.\\nChange is coming, ready or not. The question of our time is whether families and workers will be defeated by the changes beneath us or whether we will master them and make them work toward a better everyday life for us all.\\nSuch a moment calls for hopeful and audacious voices from communities like ours. And yes, it calls for a new generation of leadership.\\nThe principles that will guide my campaign are simple enough to fit on a bumper sticker: freedom, security, and democracy.\\nFirst comes freedom: something that our conservative friends have come to think of as their own … let me tell you freedom doesn’t belong to one political party.\\nFreedom has been Democratic bedrock ever since the New Deal. Freedom from want, freedom from fear.\\nOur conservative friends care about freedom, but only make it part of the journey. They only see “freedom from.”\\nFreedom from taxes, freedom from regulation … as though government were the only thing that can make you unfree.\\nBut that’s not true. Your neighbor can make you unfree. Your cable company can make you unfree. There’s a lot more to your freedom than the size of your government.\\nHealth care is freedom, because you’re not free if you can’t start a small business because leaving your job would mean losing your health care.\\nConsumer protection is freedom, because you’re not free if you can’t sue your credit card company even after they get caught ripping you off.\\nRacial justice is freedom, because you’re not free if there is a veil of mistrust between a person of color and the officers who are sworn to keep us safe.\\nWomen’s equality is freedom, because you’re not free if your reproductive health choices are dictated by male politicians or bosses.\\nOrganized labor sows freedom, because you’re not free if you can’t organize for a fair day’s pay for a good day’s work.\\nAnd take it from Chasten and me, you are certainly not free if a county clerk gets to tell you who you ought to marry based on their political beliefs.\\nThe chance to live a life of your choosing, in keeping with your values: that is freedom in its richest sense.\\nAnd we know that good government can secure such freedom just as much as bad government can deny it.\\nNow let’s talk about security. The idea that security and patriotism belong to one political party needs to end now.\\nWe are here to say there’s a lot more to security than putting up a wall from sea to shining sea.\\nAnd to those in charge of our border policy, I want to make this clear: The greatest nation in the world should have nothing to fear from children fleeing violence.\\nMore importantly, children fleeing violence ought to have nothing to fear from the greatest country in the world.\\nSecurity means cybersecurity. It means election security. It means keeping us safe in the face of violent white nationalism rearing its ugly head around our country and the world.\\nAnd let’s pick our heads up to face what might be the great security issue of our time, climate change and disruption.\\nNo region of this country is immune to that threat.\\nWe’ve seen it in the floods in Nebraska, the tornadoes in Alabama, the Hurricane in Puerto Rico and the fires in California.\\nWe’ve seen it right here in this city, where as mayor, I had to fire up the emergency operations center of our city twice in two years.\\nFirst came a 1,000-year rainfall and then came a 500-year river flood. Eighteen months apart. By my math, the chances of that happening is 125,000 to one.\\nSo either we should all be going down to Four Winds Casino tonight and try to recreate those odds on the slots to see if the rules of arithmetic have changed, or something else is changing around us.\\nAnd we’re not even having a contest over whose climate plan is better, because only one side has brought forth any plans at all. You don’t like our plan? Fine. Show us yours!\\nOur economy is on the line. Our future is on the line. Lives are on the line. So let’s call this what it is, climate security, a life and death issue for our generation.\\nFreedom. Security. And now let’s talk about democracy. Because no issue we care about, from gun safety to immigration, from climate to education to paid family leave, will be handled well unless our democracy is in better shape.\\nOur democratic republic is an elegant system but lately it hasn’t been quite democratic enough.\\nIt’s not democratic enough if legitimate voters are denied the opportunity to exercise their rights because one side thinks as a matter of political strategy that they’re better off if fewer citizens are able to vote.\\nIt’s hardly a democracy if “Citizens United” means dollars can drown out the will of the people.\\nIt’s not much of a republic if our districts our drawn so that politicians choose their voters rather than the other way around.\\nIt’s nowhere near the democracy I swore to protect, when U.S. citizens from Washington, D.C., to Puerto Rico don’t even have the same political representation as the rest of us.\\nAnd we can’t say it’s much of a democracy when twice in my lifetime, the Electoral College has overruled the American people.\\nWhy should our vote in Indiana count just once or twice a century? Or your vote in Wyoming or New York?\\nSo let’s make it easier to register and to vote; let’s make our districts fairer, our courts less political, our structures more inclusive; and yes let’s pick our president by counting up all the ballots and giving it to the woman or man who got the most votes!\\nI like talking about systems and structures. But nothing about politics is theoretical to me. Someone said all politics is local — I’d say all politics is personal.\\nTime and time again, moments in my life have forced me to realize what politics really means. I learned it when I went overseas on the orders of a commander in chief. When you write a letter and put it in an envelope marked “Just in case,” and set it where your folks can find it, you never again lose sight of the stakes.\\nBy the way, when I was overseas, each one of the 119 trips I took outside the wire driving or guarding a vehicle, we learned what it is to trust one another with our lives.\\nThe men and women who got in my vehicle, they didn’t care if I was a Democrat or a Republican.\\nThey cared about whether I had selected the route with the fewest I.E.D. threats, not whether my father was documented or undocumented when he immigrated here.\\nThey cared about whether my M-4 was locked and loaded, not whether I was going home to a girlfriend or a boyfriend.\\nThey just wanted to get home safe, like I did. They wanted what we all want — to do a good job and to live well. Making sure that happens is what politics is for. Politics matters because it hits home.\\nIt hits home at our most vulnerable moments, like the day last fall when I left my mother’s hospital bedside to go find my dad across town in the middle of his chemotherapy treatment to let him know she was going to need immediate heart surgery. Not the kind of thing you put in a text message. So I had to go find him.\\nBy the way, Mom is fine. She’s right over there!\\nI had a few things going for me even at that incredibly difficult moment in my life.\\nI had Father Brian, who gave the invocation today, who lifted us up by faith and companionship.\\nAnd I had my husband, Chasten. He was right there at the hospital. Where he belonged. Because in the eyes of the hospital, and the state, and the law, not just in my heart, he was a member of this family, my lawfully married spouse.\\nOur marriage exists by the grace of a single vote on the U.S. Supreme Court. Nine men and women sat down in a room and took a vote and they brought me the most important freedom in my life.\\nMom started getting better right away. Dad started getting worse. We lost him earlier this year. And as I watched things go from him caring for her to her caring for him, with us trying to care for both of them, once again we found our lives shaped by the decisions of those with power over us. Decisions that made us better off. Because some people in Washington made the decision to bring us something called Medicare.\\nIt meant that, as we navigated the toughest of family decisions, all we had to think about was what was medically right for Mom and Dad both. Not whether our family would go bankrupt.\\nThat’s how government touches our lives. It’s how policies bring us freedom. And when it comes to health care, I want every American to have that same benefit.\\nThis is why Washington matters. Not the political ups and downs, the daily drama of who looked good in a committee meeting. But the way a chain of events that begins in one of those stately white buildings reaches into our lives, into our homes. Our paychecks. Our doctors’ offices. Our marriages.\\nThat is why this country was invented in the first place, and that is what’s at stake today.\\nThe horror show in Washington is mesmerizing, all-consuming. But starting today, we are going to change the channel.\\nSometimes a dark moment brings out the best in us. What is good in us. Dare I say, what is great in us.\\nI believe in American greatness. I believe in American values. And I believe that we can guide this country and one another to a better place.\\nAfter all, running for office is an act of hope. You don’t do it unless you think the pulleys and levers of our government can be used and if necessary redesigned to make the life of this nation better for us all.\\nYou don’t do it unless you believe in the power of a law, a decision, sometimes even a speech, to make the right kind of difference, to change our lives for the better, to call us to our highest values.\\nThings get better if we make them better.\\nAfter all, you and I stand now in a building that used to be a symbol of our city’s decline, where new jobs are now being created in industries that didn’t even exist when they poured this concrete and laid this brick.\\nYou and I now stand in a city that formally incorporated in 1865, the last year of a war that nearly destroyed this whole country. What an act of hope that must have been.\\nWe stand on the shoulders of optimistic women and men. Women and men who knew that optimism is not a lack of knowledge, but a source of courage.\\nIt takes courage to move on from the past.\\nIf I could go back into the past, it wouldn’t be out of a desire to live there. No, if I went into the past, it would be just twenty years back, to find a teenage boy in the basement of his parents’ brick house, thinking long thoughts as he played the same guitar lick over and over again, wondering how he could belong in this world.\\nWondering if his intellectual curiosity means he’ll never fit in. Wondering if his last name will be a stumbling block for the rest of his life. Wondering what it means when he sometimes feels a certain way about young men he sees in the hall at school — if it means he’ll never wear the uniform, never be accepted, never know love.\\nIf I found him, and told him what was ahead, would he believe me? If could tell him that he would see the world and serve his country. That he would not only find belonging in his hometown but be entrusted by its citizens with the duty of leading it and shaping it. That he would have a hand in fixing the neighborhoods he knew as a boy, and that he would help lights come back on in that giant factory whose broken windows loomed like the face of a ghost over the ballpark he used to go to with his dad, wondering if this city was his own.\\nTo tell him he’ll be all right. More than all right. To tell him that one rainy April day, before he even turns forty, he’ll wake up to headlines about whether he’s rising too quickly as he becomes a top-tier contender for the American presidency. And to tell him that on that day he announces his campaign for president, he’ll do it with his husband looking on.\\nHow can you live that story and not believe that America deserves our optimism, deserves our courage, deserves our hope.\\nAfter all, running for office, itself, is an act of hope.\\nThis afternoon, are you not hopeful?\\nDon’t we live in a country that can overcome the bleakness of this moment?\\nAre you ready to turn the page and write a new chapter in the American story?\\nIf you and I rise together to meet this moment, one day they will write histories, not just about one campaign or one presidency but about the era that began here today in this building where past, present, and future meet, right here this chilly day in South Bend.\\nIt’s cold out, but we’ve had it with winter. You and I have the chance to usher in a new American spring.\\nSo with hope in our hearts and fire in our bellies, let’s get to work and let’s make history!'"
      ]
     },
     "execution_count": 77,
     "metadata": {},
     "output_type": "execute_result"
    }
   ],
   "source": [
    "transcript"
   ]
  },
  {
   "cell_type": "code",
   "execution_count": 79,
   "metadata": {},
   "outputs": [],
   "source": [
    "pete = open('buttigieg_1.txt', 'w')\n",
    "\n",
    "pete.write(transcript)\n",
    "\n",
    "pete.close()"
   ]
  }
 ],
 "metadata": {
  "kernelspec": {
   "display_name": "Python 3",
   "language": "python",
   "name": "python3"
  },
  "language_info": {
   "codemirror_mode": {
    "name": "ipython",
    "version": 3
   },
   "file_extension": ".py",
   "mimetype": "text/x-python",
   "name": "python",
   "nbconvert_exporter": "python",
   "pygments_lexer": "ipython3",
   "version": "3.7.1"
  }
 },
 "nbformat": 4,
 "nbformat_minor": 2
}
