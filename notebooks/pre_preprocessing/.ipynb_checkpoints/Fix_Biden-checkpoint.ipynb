{
 "cells": [
  {
   "cell_type": "code",
   "execution_count": 23,
   "metadata": {},
   "outputs": [],
   "source": [
    "import nltk\n",
    "from nltk.tokenize import sent_tokenize\n",
    "import re"
   ]
  },
  {
   "cell_type": "code",
   "execution_count": 1,
   "metadata": {},
   "outputs": [],
   "source": [
    "with open('../../speeches/originals/Biden.txt') as file:\n",
    "    biden = file.read()"
   ]
  },
  {
   "cell_type": "code",
   "execution_count": 2,
   "metadata": {},
   "outputs": [],
   "source": [
    "biden = biden[39:]"
   ]
  },
  {
   "cell_type": "code",
   "execution_count": 34,
   "metadata": {},
   "outputs": [],
   "source": [
    "joe = []\n",
    "for sent in sent_tokenize(biden):\n",
    "    if re.match(r'\\(([^\\)]+)\\)', sent):\n",
    "        good_stuff = sent.split(')')[1]\n",
    "        joe.append(good_stuff)\n",
    "    else:\n",
    "        joe.append(sent)\n",
    "        "
   ]
  },
  {
   "cell_type": "code",
   "execution_count": 41,
   "metadata": {},
   "outputs": [],
   "source": [
    "biden = []\n",
    "for sent in joe:\n",
    "    if 'BIDEN:' in sent:\n",
    "        good_stuff = sent.split('BIDEN:')[1][1:]\n",
    "        biden.append(good_stuff)\n",
    "    else:\n",
    "        biden.append(sent)"
   ]
  },
  {
   "cell_type": "code",
   "execution_count": 44,
   "metadata": {},
   "outputs": [],
   "source": [
    "joe = []\n",
    "for sent in biden:\n",
    "    if 'CROWD:' in sent:\n",
    "        good_stuff = sent.split('CROWD:')[1][1:]\n",
    "        joe.append(good_stuff)\n",
    "    else:\n",
    "        joe.append(sent)"
   ]
  },
  {
   "cell_type": "code",
   "execution_count": 51,
   "metadata": {},
   "outputs": [],
   "source": [
    "biden = []\n",
    "for sent in joe:\n",
    "    if re.match(r'\\[[^\\]]*\\]', sent):\n",
    "        biden.append(sent[10:])\n",
    "    else:\n",
    "        biden.append(sent)"
   ]
  },
  {
   "cell_type": "code",
   "execution_count": 58,
   "metadata": {},
   "outputs": [],
   "source": [
    "biden = ' '.join(biden)"
   ]
  },
  {
   "cell_type": "code",
   "execution_count": 59,
   "metadata": {},
   "outputs": [],
   "source": [
    "file = open('biden_1.txt', 'w')\n",
    "file.write(biden)\n",
    "file.close()"
   ]
  },
  {
   "cell_type": "code",
   "execution_count": null,
   "metadata": {},
   "outputs": [],
   "source": []
  }
 ],
 "metadata": {
  "kernelspec": {
   "display_name": "Python 3",
   "language": "python",
   "name": "python3"
  },
  "language_info": {
   "codemirror_mode": {
    "name": "ipython",
    "version": 3
   },
   "file_extension": ".py",
   "mimetype": "text/x-python",
   "name": "python",
   "nbconvert_exporter": "python",
   "pygments_lexer": "ipython3",
   "version": "3.7.1"
  }
 },
 "nbformat": 4,
 "nbformat_minor": 2
}
